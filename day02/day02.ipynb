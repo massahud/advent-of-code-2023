{
 "cells": [
  {
   "cell_type": "markdown",
   "id": "8af42f49-644e-40be-95ab-9e067e44d6ce",
   "metadata": {
    "editable": true,
    "slideshow": {
     "slide_type": ""
    },
    "tags": []
   },
   "source": [
    "# [Day 2](https://adventofcode.com/2023/day/2)\n",
    "\n",
    "## Part 1"
   ]
  },
  {
   "cell_type": "code",
   "execution_count": 1,
   "id": "c9da26ab-46ae-4f59-bbe3-31134ee8fe68",
   "metadata": {
    "editable": true,
    "slideshow": {
     "slide_type": ""
    },
    "tags": []
   },
   "outputs": [
    {
     "name": "stdout",
     "output_type": "stream",
     "text": [
      "2369\n"
     ]
    }
   ],
   "source": [
    "bag = {'red': 12, 'green': 13, 'blue': 14}\n",
    "\n",
    "def readMax(f):\n",
    "    games = {}\n",
    "    with open(f, 'r') as file:\n",
    "        for line in file:\n",
    "            line = line.strip()\n",
    "            gameSplit = line.split(':')\n",
    "            gameNum = int(gameSplit[0][len('Game '):])\n",
    "            cubes = gameSplit[1].replace(';', ',').split(',')\n",
    "            game = {}\n",
    "            for c in cubes:\n",
    "                (n, type) = c.strip().split(' ')\n",
    "                game[type] = max(game.get(type, 0), int(n))\n",
    "            games[gameNum] = game\n",
    "    return games\n",
    "\n",
    "games = readMax('input.txt')\n",
    "sum = 0\n",
    "for game, cubes in games.items():\n",
    "    possible = True\n",
    "    for cube, qty in cubes.items():\n",
    "        if bag[cube] < qty:\n",
    "            possible = False\n",
    "            break\n",
    "    if possible:\n",
    "        sum += game\n",
    "print(sum)"
   ]
  },
  {
   "cell_type": "markdown",
   "metadata": {},
   "source": [
    "## Part 2"
   ]
  },
  {
   "cell_type": "code",
   "execution_count": 2,
   "metadata": {},
   "outputs": [
    {
     "data": {
      "text/plain": [
       "66363"
      ]
     },
     "execution_count": 2,
     "metadata": {},
     "output_type": "execute_result"
    }
   ],
   "source": [
    "from functools import reduce\n",
    "\n",
    "games = readMax('input.txt')\n",
    "\n",
    "sum = 0;\n",
    "for cubes in games.values():\n",
    "    sum += reduce(lambda x, y: x * y, cubes.values())\n",
    "sum\n"
   ]
  }
 ],
 "metadata": {
  "kernelspec": {
   "display_name": "Python 3 (ipykernel)",
   "language": "python",
   "name": "python3"
  }
 },
 "nbformat": 4,
 "nbformat_minor": 5
}
