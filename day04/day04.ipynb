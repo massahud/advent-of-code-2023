{
 "cells": [
  {
   "cell_type": "markdown",
   "id": "8af42f49-644e-40be-95ab-9e067e44d6ce",
   "metadata": {
    "editable": true,
    "slideshow": {
     "slide_type": ""
    },
    "tags": []
   },
   "source": [
    "# [Day 4](https://adventofcode.com/2023/day/4)\n",
    "## Part 1"
   ]
  },
  {
   "cell_type": "code",
   "execution_count": 1,
   "metadata": {},
   "outputs": [
    {
     "name": "stdout",
     "output_type": "stream",
     "text": [
      "25004\n"
     ]
    }
   ],
   "source": [
    "import re\n",
    "\n",
    "parseRe = re.compile(r'(\\d+|\\|)') \n",
    "\n",
    "def score(line):\n",
    "    matches = 0\n",
    "    tokens = parseRe.findall(line)\n",
    "    player = False\n",
    "    winning = []\n",
    "    for i, token in enumerate(tokens[1::]):\n",
    "        if token == '|':\n",
    "            player = True\n",
    "        elif player:\n",
    "            if token in winning:\n",
    "                matches += 1\n",
    "        else:\n",
    "            winning.append(token)\n",
    "    if matches == 0:\n",
    "        return 0\n",
    "    return 2**(matches-1)\n",
    "\n",
    "\n",
    "with open('input.txt') as file:\n",
    "    print(sum([score(line) for line in file.readlines()]))"
   ]
  },
  {
   "cell_type": "markdown",
   "metadata": {},
   "source": [
    "## Part 2"
   ]
  },
  {
   "cell_type": "code",
   "execution_count": 2,
   "metadata": {},
   "outputs": [
    {
     "name": "stdout",
     "output_type": "stream",
     "text": [
      "14427616\n"
     ]
    }
   ],
   "source": [
    "from collections import defaultdict\n",
    "import re\n",
    "\n",
    "parseRe = re.compile(r'(\\d+|\\|)') \n",
    "\n",
    "def num_matches(line):\n",
    "    matches = 0\n",
    "    tokens = parseRe.findall(line)\n",
    "    player = False\n",
    "    winning = []\n",
    "    for i, token in enumerate(tokens[1::]):\n",
    "        if token == '|':\n",
    "            player = True\n",
    "        elif player:\n",
    "            if token in winning:\n",
    "                matches += 1\n",
    "        else:\n",
    "            winning.append(token)\n",
    "    return matches\n",
    "\n",
    "cardsWon = defaultdict(int)\n",
    "def cards(i, line):\n",
    "    cardsWon[i] += 1\n",
    "    matches = num_matches(line)\n",
    "    for j in range(i+1, i+matches+1):\n",
    "        cardsWon[j] += cardsWon[i]\n",
    "    return cardsWon[i]\n",
    "\n",
    "with open('input.txt') as file:\n",
    "    print(sum([cards(i+1,line) for i,line in enumerate(file.readlines())]))"
   ]
  }
 ],
 "metadata": {
  "kernelspec": {
   "display_name": "Python 3 (ipykernel)",
   "language": "python",
   "name": "python3"
  },
  "language_info": {
   "codemirror_mode": {
    "name": "ipython",
    "version": 3
   },
   "file_extension": ".py",
   "mimetype": "text/x-python",
   "name": "python",
   "nbconvert_exporter": "python",
   "pygments_lexer": "ipython3",
   "version": "3.12.0"
  }
 },
 "nbformat": 4,
 "nbformat_minor": 5
}
