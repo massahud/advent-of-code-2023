{
 "cells": [
  {
   "cell_type": "markdown",
   "id": "8af42f49-644e-40be-95ab-9e067e44d6ce",
   "metadata": {
    "editable": true,
    "slideshow": {
     "slide_type": ""
    },
    "tags": []
   },
   "source": [
    "# [Day 5](https://adventofcode.com/2023/day/5)\n",
    "## Part 1"
   ]
  },
  {
   "cell_type": "code",
   "execution_count": 1,
   "metadata": {},
   "outputs": [],
   "source": [
    "from dataclasses import dataclass\n",
    "\n",
    "def isDigit(c):\n",
    "    return c >= '0' and c <= '9'\n",
    "\n",
    "@dataclass\n",
    "class Range:\n",
    "    dest: int\n",
    "    source: int\n",
    "    length: int\n",
    "    def __init__(self, line):\n",
    "        (self.dest, self.source, self.length)  = [int(n) for n in line.split(' ')]\n",
    "        \n",
    "\n",
    "@dataclass\n",
    "class Rule:\n",
    "    ranges: list[Range]\n",
    "        \n",
    "\n",
    "def readInput(filename) -> tuple[list[int], list[Rule]]:\n",
    "    output: list[Rule] = []\n",
    "    seeds: list[int] = []\n",
    "\n",
    "    with open(filename, 'r') as f:\n",
    "        for line in f.readlines():\n",
    "            line = line.strip()\n",
    "            if len(line):\n",
    "                \n",
    "                if isDigit(line[0]):\n",
    "                    output[-1].ranges.append(Range(line))\n",
    "                elif line.startswith('seeds:'):\n",
    "                    seeds = [int(n) for n in line[6::].strip().split(' ')]\n",
    "                else:\n",
    "                    output.append(Rule([]))\n",
    "\n",
    "    return (sorted(seeds), output)"
   ]
  },
  {
   "cell_type": "code",
   "execution_count": 2,
   "id": "96477d8f",
   "metadata": {},
   "outputs": [
    {
     "name": "stdout",
     "output_type": "stream",
     "text": [
      "165788812\n"
     ]
    }
   ],
   "source": [
    "import bisect\n",
    "\n",
    "(seeds, rules) = readInput('input.txt')\n",
    "\n",
    "for rule in rules:\n",
    "\n",
    "    newSeeds = list()\n",
    "    for r in rule.ranges:\n",
    "\n",
    "        i = bisect.bisect_left(seeds, r.source)\n",
    "        if i >= len(seeds):\n",
    "            continue\n",
    "        \n",
    "        j = bisect.bisect_right(seeds, r.source + r.length - 1)\n",
    "        if i == j:\n",
    "            continue\n",
    "        newSeeds += [s - r.source + r.dest for s in seeds[i:j]]\n",
    "        seeds = seeds[:i] + seeds[j:]\n",
    "        \n",
    "    newSeeds += seeds\n",
    "    seeds = sorted(newSeeds)\n",
    "\n",
    "print(seeds[0])\n"
   ]
  },
  {
   "cell_type": "markdown",
   "metadata": {},
   "source": [
    "## Part 2"
   ]
  },
  {
   "cell_type": "code",
   "execution_count": 3,
   "id": "12488988",
   "metadata": {},
   "outputs": [],
   "source": [
    "@dataclass\n",
    "class SeedRange:\n",
    "    start: int\n",
    "    length: int\n",
    "\n",
    "    def __lt__(self, other):\n",
    "        return self.start < other.start\n",
    "    \n",
    "def readInput2(filename) -> tuple[list[Range], list[Rule]]:\n",
    "    output: list[Rule] = []\n",
    "    seeds: list[Range] = []\n",
    "\n",
    "    with open(filename, 'r') as f:\n",
    "        for line in f.readlines():\n",
    "            line = line.strip()\n",
    "            if len(line):\n",
    "                \n",
    "                if isDigit(line[0]):\n",
    "                    output[-1].ranges.append(Range(line))\n",
    "                elif line.startswith('seeds:'):\n",
    "                    seedsLine = line[6::].strip().split(' ')\n",
    "                    seeds = [SeedRange(int(seedsLine[i]), int(seedsLine[i+1])) for i in range(0, len(seedsLine), 2)]\n",
    "                else:\n",
    "                    output.append(Rule([]))\n",
    "\n",
    "    return (sorted(seeds), output)\n"
   ]
  },
  {
   "cell_type": "code",
   "execution_count": 4,
   "id": "10e33842",
   "metadata": {},
   "outputs": [
    {
     "name": "stdout",
     "output_type": "stream",
     "text": [
      "1928058\n"
     ]
    }
   ],
   "source": [
    "import bisect\n",
    "\n",
    "(seeds, rules) = readInput2('input.txt')\n",
    "\n",
    "for rule in rules:\n",
    "    newSeeds = list()\n",
    "    for r in rule.ranges:\n",
    "\n",
    "        i = bisect.bisect_left(seeds, r.source, key=lambda x: x.start + x.length)\n",
    "        if i >= len(seeds):\n",
    "            continue\n",
    "        \n",
    "        j = bisect.bisect_right(seeds, r.source + r.length - 1, key=lambda x: x.start)\n",
    "        if i == j:\n",
    "            continue\n",
    "\n",
    "        \n",
    "        ops = list()\n",
    "        # split the seeds \n",
    "        for si, seed in enumerate(seeds[i:j]):\n",
    "            if r.source <= seed.start and r.source + r.length >= seed.start + seed.length:\n",
    "                # seed is fully covered by the range\n",
    "                seed.start = start=seed.start - r.source + r.dest\n",
    "                newSeeds.append(seed)\n",
    "                # remove the seed from the list\n",
    "                ops.append(('r', i+si))\n",
    "            elif r.source <= seed.start:\n",
    "                # initial part of seed is covered by the range\n",
    "                newSeeds.append(SeedRange(start=seed.start - r.source + r.dest, length = r.source + r.length - seed.start))\n",
    "                # adjust the seed the remaining part\n",
    "                newStart = r.source + r.length\n",
    "\n",
    "                seed.length = seed.length - (newStart - seed.start)\n",
    "                seed.start = newStart\n",
    "                \n",
    "            elif r.source + r.length >= seed.start + seed.length:\n",
    "                # end part of seed is covered by the range\n",
    "                newSeeds.append(SeedRange(start=r.dest, length = seed.start + seed.length - r.source))\n",
    "                # adjust the seed length for the remaining part\n",
    "                seed.length = r.source - seed.start\n",
    "            else:\n",
    "                # range is inside the seed, remove the inner part\n",
    "                newSeeds.append(SeedRange(start=r.dest, length = r.length))\n",
    "                # insert the seed end part\n",
    "                ops.append(('i', i+si, SeedRange(start=r.source + r.length, length = seed.start + seed.length - (r.source + r.length))))\n",
    "                # adjust the seed length for the initial part\n",
    "                seed.length = r.source - seed.start\n",
    "\n",
    "        for op in reversed(ops):\n",
    "            match op[0]:\n",
    "                case 'r':\n",
    "                    del seeds[op[1]]\n",
    "                case 'i':\n",
    "                    seeds.insert(op[1], op[2])\n",
    "\n",
    "    newSeeds += seeds\n",
    "    seeds = sorted(newSeeds)\n",
    "\n",
    "print(seeds[0].start)"
   ]
  }
 ],
 "metadata": {
  "kernelspec": {
   "display_name": "Python 3 (ipykernel)",
   "language": "python",
   "name": "python3"
  }
 },
 "nbformat": 4,
 "nbformat_minor": 5
}
