{
 "cells": [
  {
   "cell_type": "markdown",
   "id": "8af42f49-644e-40be-95ab-9e067e44d6ce",
   "metadata": {
    "editable": true,
    "slideshow": {
     "slide_type": ""
    },
    "tags": []
   },
   "source": [
    "# [Day 8](https://adventofcode.com/2023/day/8)\n",
    "## Part 1"
   ]
  },
  {
   "cell_type": "code",
   "execution_count": 1,
   "id": "1d7dbb40",
   "metadata": {},
   "outputs": [],
   "source": [
    "import re\n",
    "\n",
    "def readInput(filename) -> tuple[str, dict[str, tuple[str, str]]]:\n",
    "    reSplit = re.compile(r'[ =(,)]+')\n",
    "    nodes = {}\n",
    "    with open(filename, 'r') as f:\n",
    "        instructions = f.readline().strip()\n",
    "        for line in [l.strip() for l in f.readlines()]:\n",
    "            if line:\n",
    "                split = reSplit.split(line)\n",
    "                nodes[split[0]] = (split[1], split[2])\n",
    "    return instructions, nodes\n"
   ]
  },
  {
   "cell_type": "code",
   "execution_count": 2,
   "id": "1d7ea214",
   "metadata": {},
   "outputs": [
    {
     "name": "stdout",
     "output_type": "stream",
     "text": [
      "21883\n"
     ]
    }
   ],
   "source": [
    "\n",
    "dirs, nodes = readInput('input.txt')\n",
    "\n",
    "node = 'AAA'\n",
    "pos = 0\n",
    "while node != 'ZZZ':\n",
    "    match dirs[pos%len(dirs)]:\n",
    "        case 'L':\n",
    "            node = nodes[node][0]\n",
    "        case 'R':\n",
    "            node = nodes[node][1]\n",
    "    pos += 1\n",
    "\n",
    "print(pos)"
   ]
  },
  {
   "cell_type": "markdown",
   "metadata": {},
   "source": [
    "## Part 2"
   ]
  },
  {
   "cell_type": "code",
   "execution_count": 3,
   "id": "12488988",
   "metadata": {},
   "outputs": [
    {
     "name": "stdout",
     "output_type": "stream",
     "text": [
      "all positions [{21883}, {13019}, {11911}, {16897}, {19667}, {18559}]\n",
      "factors [[{79: 1, 277: 1}], [{47: 1, 277: 1}], [{43: 1, 277: 1}], [{61: 1, 277: 1}], [{71: 1, 277: 1}], [{67: 1, 277: 1}]]\n",
      "12833235391111\n"
     ]
    }
   ],
   "source": [
    "from functools import reduce\n",
    "from sympy.ntheory import factorint\n",
    "from sympy import lcm\n",
    "\n",
    "dirs, nodes = readInput('input.txt')\n",
    "\n",
    "def nextZ(nodes, node, pos, dirs) -> list[str, int]:\n",
    "    start = pos\n",
    "    while start == pos or node[2] != 'Z':\n",
    "        match dirs[pos%len(dirs)]:\n",
    "            case 'L':\n",
    "                node = nodes[node][0]\n",
    "            case 'R':\n",
    "                node = nodes[node][1]\n",
    "        pos += 1\n",
    "    return [node, pos]\n",
    "\n",
    "def allPositions(nodes, node, dirs) -> set[int]:\n",
    "    pos = 0\n",
    "    positions = set()\n",
    "    modPositions = set()\n",
    "    while True:\n",
    "        if node == nodes[node][0] and node == nodes[node][1]:\n",
    "            return positions\n",
    "        [node, pos] = nextZ(nodes, node, pos, dirs)\n",
    "        if pos%len(dirs) in modPositions:\n",
    "            return positions\n",
    "        positions.add(pos)\n",
    "        modPositions.add(pos%len(dirs))\n",
    "\n",
    "allP = [allPositions(nodes, node, dirs) for node in nodes if node[2] == 'A']\n",
    "\n",
    "\n",
    "print('all positions', allP) \n",
    "print('factors', [list(map(factorint, p)) for p in allP])\n",
    "\n",
    "# # for my specific input there is only one possible position for each start, so I can just find the lcm of all the positions. \n",
    "# If not I would probably need to find the smallest lcm of possible position combinations, and I would instead\n",
    "# ignore this problem and move on.\n",
    "\n",
    "print(lcm([item for p in allP for item in p]))\n",
    "\n",
    "\n",
    "\n"
   ]
  }
 ],
 "metadata": {
  "kernelspec": {
   "display_name": "Python 3 (ipykernel)",
   "language": "python",
   "name": "python3"
  },
  "language_info": {
   "codemirror_mode": {
    "name": "ipython",
    "version": 3
   },
   "file_extension": ".py",
   "mimetype": "text/x-python",
   "name": "python",
   "nbconvert_exporter": "python",
   "pygments_lexer": "ipython3",
   "version": "3.12.0"
  }
 },
 "nbformat": 4,
 "nbformat_minor": 5
}
