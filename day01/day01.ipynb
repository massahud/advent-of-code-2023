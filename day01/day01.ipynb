{
 "cells": [
  {
   "cell_type": "markdown",
   "id": "8af42f49-644e-40be-95ab-9e067e44d6ce",
   "metadata": {
    "editable": true,
    "slideshow": {
     "slide_type": ""
    },
    "tags": []
   },
   "source": [
    "# [Day 1](https://adventofcode.com/2023/day/1)\n",
    "## Part 1"
   ]
  },
  {
   "cell_type": "code",
   "execution_count": 1,
   "id": "c9da26ab-46ae-4f59-bbe3-31134ee8fe68",
   "metadata": {
    "editable": true,
    "slideshow": {
     "slide_type": ""
    },
    "tags": []
   },
   "outputs": [],
   "source": [
    "def firstDigit(line):\n",
    "    for c in line:\n",
    "        n = ord(c) - ord('0')\n",
    "        if n >= 0 and n <= 9:\n",
    "            return n"
   ]
  },
  {
   "cell_type": "code",
   "execution_count": 2,
   "id": "578b5e8c-9abb-4d85-98da-2ce33d5b9b97",
   "metadata": {},
   "outputs": [
    {
     "data": {
      "text/plain": [
       "53194"
      ]
     },
     "execution_count": 2,
     "metadata": {},
     "output_type": "execute_result"
    }
   ],
   "source": [
    "\n",
    "sum = 0\n",
    "with open('input.txt', 'r') as file:\n",
    "    for line in file.read().strip().split('\\n'):\n",
    "        sum += 10*firstDigit(line)\n",
    "        sum += firstDigit(reversed(line))\n",
    "sum"
   ]
  },
  {
   "cell_type": "markdown",
   "metadata": {},
   "source": [
    "## Part 2"
   ]
  },
  {
   "cell_type": "code",
   "execution_count": 3,
   "metadata": {},
   "outputs": [
    {
     "data": {
      "text/plain": [
       "54249"
      ]
     },
     "execution_count": 3,
     "metadata": {},
     "output_type": "execute_result"
    }
   ],
   "source": [
    "import re;\n",
    "\n",
    "words = ['one', 'two', 'three', 'four', 'five', 'six', 'seven', 'eight', 'nine']\n",
    "reFirst = re.compile(r'([0-9]|' + '|'.join(words) + ')')\n",
    "reLast = re.compile(r'([0-9]|' + '|'.join([''.join(reversed(w)) for w in words]) + ')')\n",
    "\n",
    "def calibration(line):\n",
    "    first = reFirst.search(line).group(0)\n",
    "    last = reLast.search(line[::-1]).group(0)\n",
    "\n",
    "    if len(first) > 1:\n",
    "        first = words.index(first) + 1\n",
    "    else:\n",
    "        first = ord(first) - ord('0')\n",
    "    if len(last) > 1:\n",
    "        last = words.index(last[::-1]) + 1\n",
    "    else:\n",
    "        last = ord(last) - ord('0')\n",
    "    return 10*first + last\n",
    "\n",
    "sum = 0\n",
    "with open('input.txt', 'r') as file:\n",
    "    for line in file.read().strip().split('\\n'):\n",
    "        sum += calibration(line)\n",
    "sum"
   ]
  }
 ],
 "metadata": {
  "authors": [
   {
    "name": "Geraldo Massahud"
   }
  ],
  "kernelspec": {
   "display_name": "Python 3 (ipykernel)",
   "language": "python",
   "name": "python3"
  },
  "title": "Advent of Code 2023 - Day 1"
 },
 "nbformat": 4,
 "nbformat_minor": 5
}
