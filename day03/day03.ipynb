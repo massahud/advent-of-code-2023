{
 "cells": [
  {
   "cell_type": "markdown",
   "id": "8af42f49-644e-40be-95ab-9e067e44d6ce",
   "metadata": {
    "editable": true,
    "slideshow": {
     "slide_type": ""
    },
    "tags": []
   },
   "source": [
    "# [Day 3](https://adventofcode.com/2023/day/3)\n",
    "## Part 1"
   ]
  },
  {
   "cell_type": "code",
   "execution_count": 1,
   "metadata": {},
   "outputs": [],
   "source": [
    "def read(filename) -> list[str]:\n",
    "    with open(filename) as file:\n",
    "        return [line.strip() for line in file.readlines()]"
   ]
  },
  {
   "cell_type": "code",
   "execution_count": 2,
   "id": "c9da26ab-46ae-4f59-bbe3-31134ee8fe68",
   "metadata": {
    "editable": true,
    "slideshow": {
     "slide_type": ""
    },
    "tags": []
   },
   "outputs": [
    {
     "name": "stdout",
     "output_type": "stream",
     "text": [
      "540212\n"
     ]
    }
   ],
   "source": [
    "import re\n",
    "\n",
    "numbersRegex = re.compile(r'\\d+')\n",
    "\n",
    "lines = read('input.txt')\n",
    "\n",
    "numbers = []\n",
    "lineMap = {}\n",
    "for i, line in enumerate(lines):\n",
    "    for item in re.finditer(numbersRegex, line):\n",
    "        idx = len(numbers)\n",
    "        numbers.append(int(item.group()))\n",
    "        for j in range(item.start(), item.end()):\n",
    "            lineMap[i,j] = idx\n",
    "    \n",
    "symbolRegex = re.compile(r'[^\\.\\d]')\n",
    "\n",
    "found = set() \n",
    "for i, line in enumerate(lines):\n",
    "    for item in re.finditer(symbolRegex, line):\n",
    "        for l in range(i-1, i+2):\n",
    "            for c in range(item.start()-1, item.start()+2):\n",
    "                if lineMap.get((l,c)) != None:\n",
    "                    found.add(lineMap[l,c])\n",
    "\n",
    "print(sum([numbers[i] for i in found]))"
   ]
  },
  {
   "cell_type": "markdown",
   "metadata": {},
   "source": [
    "## Part 2"
   ]
  },
  {
   "cell_type": "code",
   "execution_count": 3,
   "metadata": {},
   "outputs": [
    {
     "name": "stdout",
     "output_type": "stream",
     "text": [
      "87605697\n"
     ]
    }
   ],
   "source": [
    "import re\n",
    "\n",
    "numbersRegex = re.compile(r'\\d+')\n",
    "\n",
    "lines = read('input.txt')\n",
    "\n",
    "numbers = []\n",
    "lineMap = {}\n",
    "for i, line in enumerate(lines):\n",
    "    for item in re.finditer(numbersRegex, line):\n",
    "        idx = len(numbers)\n",
    "        numbers.append(int(item.group()))\n",
    "        for j in range(item.start(), item.end()):\n",
    "            lineMap[i,j] = idx\n",
    "    \n",
    "symbolRegex = re.compile(r'[^\\.\\d]')\n",
    "\n",
    "ratio = 0\n",
    "for i, line in enumerate(lines):\n",
    "    for item in re.finditer(symbolRegex, line):\n",
    "        found = set()\n",
    "        for l in range(i-1, i+2):\n",
    "            for c in range(item.start()-1, item.start()+2):\n",
    "                if lineMap.get((l,c)) != None:\n",
    "                    found.add(lineMap[l,c])\n",
    "        if len(found) == 2:\n",
    "            ratio += numbers[found.pop()] * numbers[found.pop()]\n",
    "\n",
    "print(ratio)"
   ]
  }
 ],
 "metadata": {
  "kernelspec": {
   "display_name": "Python 3 (ipykernel)",
   "language": "python",
   "name": "python3"
  },
  "language_info": {
   "codemirror_mode": {
    "name": "ipython",
    "version": 3
   },
   "file_extension": ".py",
   "mimetype": "text/x-python",
   "name": "python",
   "nbconvert_exporter": "python",
   "pygments_lexer": "ipython3",
   "version": "3.12.0"
  }
 },
 "nbformat": 4,
 "nbformat_minor": 5
}
