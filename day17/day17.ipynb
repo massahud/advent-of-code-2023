{
 "cells": [
  {
   "cell_type": "markdown",
   "id": "8af42f49-644e-40be-95ab-9e067e44d6ce",
   "metadata": {
    "editable": true,
    "slideshow": {
     "slide_type": ""
    },
    "tags": []
   },
   "source": [
    "# [Day 17](https://adventofcode.com/2023/day/17)\n"
   ]
  },
  {
   "cell_type": "markdown",
   "id": "1cea43f4",
   "metadata": {},
   "source": [
    "## Model"
   ]
  },
  {
   "cell_type": "code",
   "execution_count": 1,
   "metadata": {},
   "outputs": [
    {
     "name": "stdout",
     "output_type": "stream",
     "text": [
      "2413432311323\n",
      "3215453535623\n",
      "3255245654254\n",
      "3446585845452\n",
      "4546657867536\n",
      "1438598798454\n",
      "4457876987766\n",
      "3637877979653\n",
      "4654967986887\n",
      "4564679986453\n",
      "1224686865563\n",
      "2546548887735\n",
      "4322674655533\n"
     ]
    }
   ],
   "source": [
    "from collections import defaultdict\n",
    "from dataclasses import dataclass, field\n",
    "from typing import Generic, TypeVar\n",
    "from enum import Enum\n",
    "\n",
    "\n",
    "class Choice(Enum):\n",
    "    LEFT = 0\n",
    "    STRAIGHT = 1\n",
    "    RIGHT = 2\n",
    "\n",
    "type Pos = tuple[int, int]\n",
    "\n",
    "\n",
    "class Dir(Enum):\n",
    "    NORTH = 0\n",
    "    EAST = 1\n",
    "    SOUTH = 2\n",
    "    WEST = 3\n",
    "\n",
    "    def reversed(self) -> 'Dir':\n",
    "        return Dir((self.value + 2) % 4)\n",
    "\n",
    "    def turn(self, choice: Choice) -> 'Dir':\n",
    "        if choice == Choice.LEFT:\n",
    "            return Dir((self.value - 1) % 4)\n",
    "        elif choice == Choice.RIGHT:\n",
    "            return Dir((self.value + 1) % 4)\n",
    "        else:\n",
    "            return self\n",
    "        \n",
    "    def of(self, pos: Pos):\n",
    "        match self:\n",
    "            case Dir.NORTH:\n",
    "                return (pos[0], pos[1]-1)\n",
    "            case Dir.EAST:\n",
    "                return (pos[0]+1, pos[1])\n",
    "            case Dir.SOUTH:\n",
    "                return (pos[0], pos[1]+1)\n",
    "            case Dir.WEST:\n",
    "                return (pos[0]-1, pos[1])\n",
    "        \n",
    "\n",
    "@dataclass(frozen=True)\n",
    "class Edge:\n",
    "    dir: Dir\n",
    "    fromNode: 'Node'\n",
    "    to: 'Node'\n",
    "    cost: int\n",
    "    \n",
    "@dataclass(unsafe_hash=True)\n",
    "class Node:\n",
    "    x: int\n",
    "    y: int\n",
    "    cost: int\n",
    "\n",
    "    connected: dict[Dir, Edge] = field(default_factory=dict, init=False, compare=False, hash=False)\n",
    "\n",
    "    def next(self, dir: Dir, choice: Choice) -> Edge:\n",
    "        nextDir = dir.turn(choice)\n",
    "        return self.connected[nextDir] if nextDir in self.connected else None\n",
    "    \n",
    "    def pos(self) -> tuple[int, int]:\n",
    "        return (self.x, self.y)\n",
    "    \n",
    "    def __repr__(self):\n",
    "        return f'{self.pos()}={self.cost}'\n",
    "\n",
    "def readInput(filename: str) -> (dict[Pos, Node], list[list[str]]):\n",
    "    nodes: dict[Pos, Node] = dict()\n",
    "    map: list[list[str]] = []\n",
    "    with open(filename, 'r') as f:\n",
    "        for y, line in enumerate(f):\n",
    "            line = line.strip()\n",
    "            map.append(list(line))\n",
    "            \n",
    "            for x, c in enumerate(line):\n",
    "                cost = int(c)\n",
    "                node = Node(x, y, cost)\n",
    "\n",
    "                nodes[node.pos()] = node\n",
    "\n",
    "                for dir in Dir:\n",
    "                    if (pos := dir.of(node.pos())) in nodes:\n",
    "                        neighbor = nodes[pos]\n",
    "                        node.connected[dir] = Edge(dir, node, neighbor, neighbor.cost)\n",
    "                        rev = dir.reversed()\n",
    "                        neighbor.connected[rev] = Edge(rev, neighbor, node, node.cost)\n",
    "    return nodes, map\n",
    "\n",
    "nodes, m = readInput('test.txt')\n",
    "\n",
    "print('\\n'.join(''.join(l) for l in m))"
   ]
  },
  {
   "cell_type": "markdown",
   "id": "e1589f4e",
   "metadata": {},
   "source": [
    "\n",
    "## Draw function"
   ]
  },
  {
   "cell_type": "code",
   "execution_count": 2,
   "id": "ae474630",
   "metadata": {},
   "outputs": [
    {
     "data": {
      "text/html": [
       "<img src=\"./image_001.png\"/>"
      ],
      "text/plain": [
       "<IPython.core.display.Image object>"
      ]
     },
     "metadata": {},
     "output_type": "display_data"
    }
   ],
   "source": [
    "from graphviz import Digraph\n",
    "from IPython.display import Image, display\n",
    "\n",
    "imageCount = 1\n",
    "def drawGraph(nodes, path: set[Edge] = set(), costs: dict[Node, int] = dict(), file: str = None, scale: int = 1):\n",
    "    global imageCount\n",
    "    if not file:\n",
    "        file = f'image_{imageCount:03d}.png'  \n",
    "        imageCount += 1\n",
    "    g = Digraph('G', engine='neato', strict=False)\n",
    "    for n in nodes:\n",
    "        label = str(n.cost)\n",
    "        if costs:\n",
    "            label = f'{costs[n] if n in costs else ''}'\n",
    "        g.node(f'{n.x} {n.y}', label=label, shape='square', colorscheme='oranges9', style='filled', fillcolor=f'{n.cost}', color=f'{n.cost}', pos=f'{n.x/1.4},{(len(m)+1-n.y)/1.4}!')\n",
    "        # for e in n.connected.values():\n",
    "        #     g.edge(f'{e.fromNode.x} {e.fromNode.y}', f'{e.to.x} {e.to.y}', dir='forward', colorscheme='oranges9', color=str(e.cost), fillcolor=str(e.cost))\n",
    "    for e in path:\n",
    "        g.node(f'{e.to.x} {e.to.y}', color='#00ff00ff', penwidth='3')\n",
    "        if e.fromNode:\n",
    "            g.edge(f'{e.fromNode.x} {e.fromNode.y}', f'{e.to.x} {e.to.y}', colorscheme='oranges9', fillcolor=f'{n.cost}', color='#00ff00ff', penwidth='2')\n",
    "    # g.format = 'svg'\n",
    "    g.format = 'png'\n",
    "    # g.formatter = 'cairo'\n",
    "\n",
    "    g.graph_attr['size'] = f'{5*scale,5*scale}!'\n",
    "    g.render(outfile=file, cleanup=True)\n",
    "    display(Image(url=f'./{file}'))\n",
    "\n",
    "drawGraph(nodes.values())"
   ]
  },
  {
   "cell_type": "markdown",
   "id": "e8f46595",
   "metadata": {},
   "source": [
    "## Shortest path\n",
    "\n",
    "could be faster, but works"
   ]
  },
  {
   "cell_type": "code",
   "execution_count": 3,
   "id": "3ac43f2f",
   "metadata": {},
   "outputs": [
    {
     "name": "stdout",
     "output_type": "stream",
     "text": [
      "Test:  102\n"
     ]
    },
    {
     "data": {
      "text/html": [
       "<img src=\"./image_002.png\"/>"
      ],
      "text/plain": [
       "<IPython.core.display.Image object>"
      ]
     },
     "metadata": {},
     "output_type": "display_data"
    }
   ],
   "source": [
    "from queue import PriorityQueue\n",
    "from typing import Generic\n",
    "from typing import TypeVar\n",
    "\n",
    "INF = 999999999999\n",
    "\n",
    "T = TypeVar('T')\n",
    "class EdgePriorityQueue(Generic[T]):\n",
    "    idx: int\n",
    "    queue: PriorityQueue[tuple[int, ...]]\n",
    "    refCount: dict[T, list[int]]\n",
    "    def __init__(self):\n",
    "        self.idx = 0\n",
    "        self.queue = PriorityQueue()\n",
    "        self.refCount = defaultdict(list)\n",
    "    def contains(self, item: T) -> bool:\n",
    "        return len(self.refCount[item]) > 0\n",
    "    def getCosts(self, item: T) -> list[int]:\n",
    "        return list(*self.refCount[item])\n",
    "    def put(self, item: T, *costs: list[int]):\n",
    "        self.idx += 1\n",
    "        self.queue.put((*costs, self.idx, item))\n",
    "        if type(costs) == tuple:\n",
    "            self.refCount[item].append(list(costs))\n",
    "        else:\n",
    "            self.refCount[item].append(costs)\n",
    "    def get(self) -> tuple[T, ...]:\n",
    "        *costs, _, item = self.queue.get()\n",
    "        self.refCount[item].remove(costs)\n",
    "        return (item, costs)\n",
    "    def empty(self) -> bool:\n",
    "        return self.queue.empty()\n",
    "    def size(self) -> int:\n",
    "        return self.queue.qsize()\n",
    "\n",
    "type Item = tuple[Edge, int]\n",
    "def addChoices(minStraight: int, maxStraight: int, queue: EdgePriorityQueue[tuple[Node, Node]], item: Item, previousItems: dict[Item, Item], edgeCosts: dict[Item, int], visited: set[Item] = set()):\n",
    "    (edge, straight) = item\n",
    "    if edge.fromNode is None:\n",
    "        # add all children of start node\n",
    "        for child in edge.to.connected.values():\n",
    "            cost = edge.to.cost + child.cost\n",
    "            queue.put((item, (child, 1)), cost)\n",
    "    else:\n",
    "        for choice in Choice:\n",
    "            nextEdge = edge.to.next(edge.dir, choice)\n",
    "            if not nextEdge:\n",
    "                continue\n",
    "            if choice != Choice.STRAIGHT and straight < minStraight:\n",
    "                continue\n",
    "            if choice == Choice.STRAIGHT and straight == maxStraight:\n",
    "                continue\n",
    "            nextItem = (nextEdge, (straight + 1) if choice == Choice.STRAIGHT else 1)\n",
    "        \n",
    "            if nextItem in visited:\n",
    "                continue\n",
    "\n",
    "            nextCost = edgeCosts[item] + nextEdge.cost\n",
    "            if queue.contains(nextItem):\n",
    "                costs = queue.getCosts(nextItem)\n",
    "                if nextCost < min(costs):\n",
    "                    queue.put((item, nextItem), nextCost)\n",
    "            else:\n",
    "                queue.put((item, nextItem), nextCost)\n",
    "\n",
    "\n",
    "\n",
    "def shortestPath(start: Node, goal: Node, minStraight: int = 0, maxStraight: int = 0) -> tuple[dict[Node, Node], dict[Node, int], dict[(Edge, int), int]]:\n",
    "    itemCosts: dict[Item, int] = dict()\n",
    "    previousItems: dict[Item, Item] = dict()\n",
    "    queue:  EdgePriorityQueue[tuple[Item, Item]] = EdgePriorityQueue()\n",
    "    nodeCosts: dict[Node, int] = dict()\n",
    "    \n",
    "    visited: set[(Edge, straight)] = set()\n",
    "\n",
    "    queue.put((None, (Edge(None, None, start, 0), 1)), 0)\n",
    "    previousItems[None] = None\n",
    "    goalItem = None\n",
    "    while not queue.empty():\n",
    "        (fromItem, item), _ = queue.get()\n",
    "        (edge, straight) = item\n",
    "        if item in visited:\n",
    "            continue\n",
    "        \n",
    "        cost = itemCosts.get(fromItem, 0) + edge.cost\n",
    "        \n",
    "        if cost < itemCosts.get(item, INF):\n",
    "            visited.add(item)\n",
    "            itemCosts[item] = cost\n",
    "            previousItems[item] = fromItem\n",
    "            node = edge.to \n",
    "            if straight >= minStraight and straight <= maxStraight:\n",
    "                if cost < nodeCosts.get(node, INF):\n",
    "                    nodeCosts[node] = cost\n",
    "                if node == goal:\n",
    "                    if cost < itemCosts.get(goalItem, INF):\n",
    "                        goalItem = item\n",
    "        addChoices(minStraight, maxStraight, queue, item, previousItems, itemCosts, visited)\n",
    "        \n",
    "    return goalItem, previousItems, itemCosts, nodeCosts\n",
    "\n",
    "def reconstructPath(item: Item, previousItems: dict[Item, Item]) -> tuple[set[Edge], dict[Node, int]]:\n",
    "    path: set[Edge] = set()\n",
    "    costs: dict[Node, int]= dict()\n",
    "    while item is not None:\n",
    "        path.add(item[0])\n",
    "        costs[item[0].to] = itemCosts[item]\n",
    "        item = previousItems[item]\n",
    "    return path, costs\n",
    "\n",
    "nodes, m = readInput('test.txt')\n",
    "start = nodes[(0, 0)]\n",
    "goal = nodes[(len(m[0])-1, len(m)-1)]\n",
    "\n",
    "goalItem, previousItems, itemCosts, nodeCosts = shortestPath(nodes[(0, 0)], nodes[(len(m[0])-1, len(m)-1)], 0, 3)\n",
    "print('Test: ', itemCosts[goalItem])\n",
    "path, pathCosts = reconstructPath(goalItem, previousItems)\n",
    "nodeCosts.update(pathCosts)\n",
    "drawGraph(nodes.values(), path, nodeCosts)"
   ]
  },
  {
   "cell_type": "markdown",
   "id": "d39bd649",
   "metadata": {},
   "source": [
    "## Part 1"
   ]
  },
  {
   "cell_type": "code",
   "execution_count": 4,
   "id": "b6f89237",
   "metadata": {},
   "outputs": [
    {
     "name": "stdout",
     "output_type": "stream",
     "text": [
      "Part 1:  956\n"
     ]
    },
    {
     "data": {
      "text/html": [
       "<img src=\"./image_003.png\"/>"
      ],
      "text/plain": [
       "<IPython.core.display.Image object>"
      ]
     },
     "metadata": {},
     "output_type": "display_data"
    }
   ],
   "source": [
    "nodes, m = readInput('input.txt')\n",
    "start = nodes[(0, 0)]\n",
    "goal = nodes[(len(m[0])-1, len(m)-1)]\n",
    "\n",
    "goalItem, previousItems, itemCosts, nodeCosts = shortestPath(nodes[(0, 0)], nodes[(len(m[0])-1, len(m)-1)], 0, 3)\n",
    "print('Part 1: ', itemCosts[goalItem])\n",
    "\n",
    "path, pathCosts = reconstructPath(goalItem, previousItems)\n",
    "nodeCosts.update(pathCosts)\n",
    "drawGraph(nodes.values(), path, nodeCosts)\n"
   ]
  },
  {
   "cell_type": "markdown",
   "metadata": {},
   "source": [
    "## Part 2"
   ]
  },
  {
   "cell_type": "code",
   "execution_count": 5,
   "id": "7d8588e3",
   "metadata": {},
   "outputs": [
    {
     "name": "stdout",
     "output_type": "stream",
     "text": [
      "Test 1:  94\n"
     ]
    },
    {
     "data": {
      "text/html": [
       "<img src=\"./image_004.png\"/>"
      ],
      "text/plain": [
       "<IPython.core.display.Image object>"
      ]
     },
     "metadata": {},
     "output_type": "display_data"
    },
    {
     "name": "stdout",
     "output_type": "stream",
     "text": [
      "Test 2:  71\n"
     ]
    },
    {
     "data": {
      "text/html": [
       "<img src=\"./image_005.png\"/>"
      ],
      "text/plain": [
       "<IPython.core.display.Image object>"
      ]
     },
     "metadata": {},
     "output_type": "display_data"
    },
    {
     "name": "stdout",
     "output_type": "stream",
     "text": [
      "Part 2:  1106\n"
     ]
    },
    {
     "data": {
      "text/html": [
       "<img src=\"./image_006.png\"/>"
      ],
      "text/plain": [
       "<IPython.core.display.Image object>"
      ]
     },
     "metadata": {},
     "output_type": "display_data"
    }
   ],
   "source": [
    "\n",
    "nodes, m = readInput('test.txt')\n",
    "start = nodes[(0, 0)]\n",
    "goal = nodes[(len(m[0])-1, len(m)-1)]\n",
    "\n",
    "goalItem, previousItems, itemCosts, nodeCosts = shortestPath(nodes[(0, 0)], nodes[(len(m[0])-1, len(m)-1)], 4, 10)\n",
    "print('Test 1: ', itemCosts[goalItem])\n",
    "\n",
    "path, pathCosts = reconstructPath(goalItem, previousItems)\n",
    "nodeCosts.update(pathCosts)\n",
    "drawGraph(nodes.values(), path, nodeCosts)\n",
    "\n",
    "nodes, m = readInput('test2.txt')\n",
    "start = nodes[(0, 0)]\n",
    "goal = nodes[(len(m[0])-1, len(m)-1)]\n",
    "goalItem, previousItems, itemCosts, nodeCosts = shortestPath(nodes[(0, 0)], nodes[(len(m[0])-1, len(m)-1)], 4, 10)\n",
    "print('Test 2: ', itemCosts[goalItem])\n",
    "\n",
    "path, pathCosts = reconstructPath(goalItem, previousItems)\n",
    "nodeCosts.update(pathCosts)\n",
    "drawGraph(nodes.values(), path, nodeCosts)\n",
    "\n",
    "\n",
    "nodes, m = readInput('input.txt')\n",
    "start = nodes[(0, 0)]\n",
    "goal = nodes[(len(m[0])-1, len(m)-1)]\n",
    "\n",
    "goalItem, previousItems, itemCosts, nodeCosts = shortestPath(nodes[(0, 0)], nodes[(len(m[0])-1, len(m)-1)], 4, 10)\n",
    "print('Part 2: ',itemCosts[goalItem])\n",
    "\n",
    "path, pathCosts = reconstructPath(goalItem, previousItems)\n",
    "nodeCosts.update(pathCosts)\n",
    "drawGraph(nodes.values(), path, nodeCosts)"
   ]
  }
 ],
 "metadata": {
  "kernelspec": {
   "display_name": "Python 3 (ipykernel)",
   "language": "python",
   "name": "python3"
  },
  "language_info": {
   "codemirror_mode": {
    "name": "ipython",
    "version": 3
   },
   "file_extension": ".py",
   "mimetype": "text/x-python",
   "name": "python",
   "nbconvert_exporter": "python",
   "pygments_lexer": "ipython3",
   "version": "3.12.0"
  }
 },
 "nbformat": 4,
 "nbformat_minor": 5
}
