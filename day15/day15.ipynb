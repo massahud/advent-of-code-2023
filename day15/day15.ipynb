{
 "cells": [
  {
   "cell_type": "markdown",
   "id": "8af42f49-644e-40be-95ab-9e067e44d6ce",
   "metadata": {
    "editable": true,
    "slideshow": {
     "slide_type": ""
    },
    "tags": []
   },
   "source": [
    "# [Day 15](https://adventofcode.com/2023/day/15)\n",
    "## Part 1"
   ]
  },
  {
   "cell_type": "code",
   "execution_count": 1,
   "metadata": {},
   "outputs": [
    {
     "name": "stdout",
     "output_type": "stream",
     "text": [
      "509167\n"
     ]
    }
   ],
   "source": [
    "from collections import defaultdict\n",
    "from dataclasses import dataclass\n",
    "from typing import Iterable, TypedDict, NewType\n",
    "\n",
    "def readInput(filename: str) -> list[str]:\n",
    "    with open(filename, 'r') as f:\n",
    "        return [s for l in f.readlines() for s in l.strip().split(',') if s]\n",
    "    \n",
    "def hashCode(s: str) -> int:\n",
    "    total = 0\n",
    "    for c in s:\n",
    "        total = (total + ord(c))*17%256\n",
    "    return total\n",
    "print(sum([hashCode(s) for s in readInput('input.txt')]))\n",
    "    \n"
   ]
  },
  {
   "cell_type": "markdown",
   "metadata": {},
   "source": [
    "## Part 2"
   ]
  },
  {
   "cell_type": "code",
   "execution_count": 2,
   "id": "12488988",
   "metadata": {},
   "outputs": [
    {
     "name": "stdout",
     "output_type": "stream",
     "text": [
      "259333\n"
     ]
    }
   ],
   "source": [
    "input = readInput('input.txt')\n",
    "\n",
    "boxes = [list() for _ in range(256)]\n",
    "\n",
    "for s in input:\n",
    "    if s[-1] == '-':\n",
    "        label = s[:-1]\n",
    "        box = boxes[hashCode(s[:-1])]\n",
    "        for i in range(len(box)):\n",
    "            if box[i][0] == label:\n",
    "                del box[i]\n",
    "                break\n",
    "    else:\n",
    "        label = s[:-2]\n",
    "        box = boxes[hashCode(s[:-2])]\n",
    "        lens = s[-1]\n",
    "        for i, v in enumerate(box):\n",
    "            if v[0] == label:\n",
    "                box[i] = (label, lens)\n",
    "                break\n",
    "        else:\n",
    "            box.append((label, lens))\n",
    "total = 0\n",
    "for i, box in enumerate(boxes):\n",
    "    if box:\n",
    "        for j, v in enumerate(box):\n",
    "            total += (i+1) * (j+1) * int(v[1])\n",
    "        \n",
    "print(total)"
   ]
  }
 ],
 "metadata": {
  "kernelspec": {
   "display_name": "Python 3 (ipykernel)",
   "language": "python",
   "name": "python3"
  },
  "language_info": {
   "codemirror_mode": {
    "name": "ipython",
    "version": 3
   },
   "file_extension": ".py",
   "mimetype": "text/x-python",
   "name": "python",
   "nbconvert_exporter": "python",
   "pygments_lexer": "ipython3",
   "version": "3.12.0"
  }
 },
 "nbformat": 4,
 "nbformat_minor": 5
}
