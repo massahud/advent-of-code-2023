{
 "cells": [
  {
   "cell_type": "markdown",
   "id": "8af42f49-644e-40be-95ab-9e067e44d6ce",
   "metadata": {
    "editable": true,
    "slideshow": {
     "slide_type": ""
    },
    "tags": []
   },
   "source": [
    "# [Day 9](https://adventofcode.com/2023/day/9)\n",
    "## Part 1"
   ]
  },
  {
   "cell_type": "code",
   "execution_count": 1,
   "metadata": {},
   "outputs": [],
   "source": [
    "from dataclasses import dataclass\n",
    "\n",
    "def readInput(filename) -> list[list[int]]:\n",
    "    with open(filename, 'r') as f:\n",
    "        return [[int(x) for x in line.strip().split()] for line in f.readlines()]"
   ]
  },
  {
   "cell_type": "code",
   "execution_count": 2,
   "id": "96477d8f",
   "metadata": {},
   "outputs": [
    {
     "name": "stdout",
     "output_type": "stream",
     "text": [
      "1798691765\n"
     ]
    }
   ],
   "source": [
    "readings = readInput('input.txt')\n",
    "\n",
    "total = 0;\n",
    "for reading in readings:\n",
    "    seqs = [reading]\n",
    "    while any(seqs[-1]):\n",
    "        seqs.append([seqs[-1][i+1] - seqs[-1][i] for i in range(len(seqs[-1])-1)])\n",
    "    total += sum([seq[-1] for seq in seqs])\n",
    "\n",
    "print(total)\n",
    "\n",
    "    "
   ]
  },
  {
   "cell_type": "markdown",
   "metadata": {},
   "source": [
    "## Part 2"
   ]
  },
  {
   "cell_type": "code",
   "execution_count": 3,
   "id": "12488988",
   "metadata": {},
   "outputs": [
    {
     "name": "stdout",
     "output_type": "stream",
     "text": [
      "1104\n"
     ]
    }
   ],
   "source": [
    "readings = readInput('input.txt')\n",
    "\n",
    "total = 0;\n",
    "for reading in readings:\n",
    "    seqs = [reading]\n",
    "    while any(seqs[-1]):\n",
    "        seqs.append([seqs[-1][i+1] - seqs[-1][i] for i in range(len(seqs[-1])-1)])\n",
    "    curr = 0\n",
    "    for seq in reversed(seqs):\n",
    "        curr = seq[0] - curr\n",
    "    total += curr\n",
    "print(total)\n"
   ]
  }
 ],
 "metadata": {
  "kernelspec": {
   "display_name": "Python 3 (ipykernel)",
   "language": "python",
   "name": "python3"
  },
  "language_info": {
   "codemirror_mode": {
    "name": "ipython",
    "version": 3
   },
   "file_extension": ".py",
   "mimetype": "text/x-python",
   "name": "python",
   "nbconvert_exporter": "python",
   "pygments_lexer": "ipython3",
   "version": "3.12.0"
  }
 },
 "nbformat": 4,
 "nbformat_minor": 5
}
